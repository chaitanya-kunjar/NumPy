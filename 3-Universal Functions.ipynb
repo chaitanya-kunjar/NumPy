{
 "cells": [
  {
   "cell_type": "code",
   "execution_count": 9,
   "id": "3339277c",
   "metadata": {},
   "outputs": [
    {
     "name": "stdout",
     "output_type": "stream",
     "text": [
      "x = [0 1 2 3 4]\n",
      "x + 3 = [3 4 5 6 7]\n",
      "x - 3 = [-3 -2 -1  0  1]\n",
      "x * 3 = [ 0  3  6  9 12]\n",
      "x / 3 = [0.         0.33333333 0.66666667 1.         1.33333333]\n",
      "x // 3 = [0 0 0 1 1]\n",
      "x % 3 = [0 1 2 0 1]\n",
      "x ** 3 = [ 0  1  8 27 64]\n",
      "-x = [ 0 -1 -2 -3 -4]\n"
     ]
    }
   ],
   "source": [
    "# Using arithmetic operators on NumPy arrays\n",
    "import numpy as np\n",
    "x = np.arange(5)\n",
    "print(\"x =\", x)\n",
    "# 1. Addition (+)\n",
    "print(\"x + 3 =\", (x+3))\n",
    "# 2. Subtraction (-)\n",
    "print(\"x - 3 =\", (x-3))\n",
    "# 3. Multiplication (*)\n",
    "print(\"x * 3 =\", (x*3))\n",
    "# 4. Division (/)\n",
    "print(\"x / 3 =\", (x/3))\n",
    "# 5. Floor division (//)\n",
    "print(\"x // 3 =\", (x//3))\n",
    "# 6. Modulus (%)\n",
    "print(\"x % 3 =\", (x%3))\n",
    "# 7. Exponentiation (**)\n",
    "print(\"x ** 3 =\", (x**3))\n",
    "# 8. Negation (-)\n",
    "print(\"-x =\", (-x))"
   ]
  },
  {
   "cell_type": "code",
   "execution_count": 18,
   "id": "6b91eb0d",
   "metadata": {},
   "outputs": [
    {
     "name": "stdout",
     "output_type": "stream",
     "text": [
      "x = [0 1 2 3 4]\n",
      "x + 3 = [3 4 5 6 7]\n",
      "x - 3 = [-3 -2 -1  0  1]\n",
      "x * 3 = [ 0  3  6  9 12]\n",
      "x / 3 = [0.         0.33333333 0.66666667 1.         1.33333333]\n",
      "x // 3 = [0 0 0 1 1]\n",
      "x % 3 = [0 1 2 0 1]\n",
      "x ** 3 = [ 0  1  8 27 64]\n",
      "-x = [ 0 -1 -2 -3 -4]\n"
     ]
    }
   ],
   "source": [
    "# Universal functions for the above arithmetic operations\n",
    "import numpy as np\n",
    "x = np.arange(5)\n",
    "print(\"x =\", x)\n",
    "# 1. Addition\n",
    "print(\"x + 3 =\", np.add(x, 3))\n",
    "# 2. Subtraction\n",
    "print(\"x - 3 =\", np.subtract(x, 3))\n",
    "# 3. Multiplication\n",
    "print(\"x * 3 =\", np.multiply(x, 3))\n",
    "# 4. Division\n",
    "print(\"x / 3 =\", np.divide(x, 3))\n",
    "# 5. Floor division\n",
    "print(\"x // 3 =\", np.floor_divide(x, 3))\n",
    "# 6. Modulus (%)\n",
    "print(\"x % 3 =\", np.mod(x, 3))\n",
    "# 7. Exponentiation\n",
    "print(\"x ** 3 =\", np.power(x, 3))\n",
    "# 8. Negation\n",
    "print(\"-x =\", np.negative(x))"
   ]
  },
  {
   "cell_type": "code",
   "execution_count": 23,
   "id": "d7e15314",
   "metadata": {},
   "outputs": [
    {
     "name": "stdout",
     "output_type": "stream",
     "text": [
      "[-3 -2 -1  0  1  2  3]\n",
      "[3 2 1 0 1 2 3]\n",
      "[3 2 1 0 1 2 3]\n",
      "[5. 5. 2. 1.]\n",
      "[5. 5. 2. 1.]\n"
     ]
    }
   ],
   "source": [
    "# Absolute value\n",
    "import numpy as np \n",
    "x = np.array([-3, -2, -1, 0, 1, 2, 3])\n",
    "print(x)\n",
    "# Using built-in function\n",
    "print(abs(x))\n",
    "# Using universal function\n",
    "print(np.absolute(x))\n",
    "# In case of complex numbers, it returns the magnitude\n",
    "y = np.array([3-4j, 4-3j, 2+0j, 0+1j])\n",
    "print(abs(y))\n",
    "print(np.absolute(y))"
   ]
  },
  {
   "cell_type": "code",
   "execution_count": 27,
   "id": "9ec19e01",
   "metadata": {},
   "outputs": [
    {
     "name": "stdout",
     "output_type": "stream",
     "text": [
      "theta = [0.         1.57079633 3.14159265]\n",
      "sin(theta) = [0.0000000e+00 1.0000000e+00 1.2246468e-16]\n",
      "cos(theta) = [ 1.000000e+00  6.123234e-17 -1.000000e+00]\n",
      "tan(theta) = [ 0.00000000e+00  1.63312394e+16 -1.22464680e-16]\n"
     ]
    }
   ],
   "source": [
    "# Trigonometric functions\n",
    "import numpy as np\n",
    "# Define an array of angles\n",
    "theta = np.linspace(0, np.pi, 3)\n",
    "print(\"theta =\", theta)\n",
    "# 1. sine\n",
    "print(\"sin(theta) =\", np.sin(theta))\n",
    "# 2. cosine\n",
    "print(\"cos(theta) =\", np.cos(theta))\n",
    "# 3. tangent\n",
    "print(\"tan(theta) =\", np.tan(theta))"
   ]
  },
  {
   "cell_type": "code",
   "execution_count": 29,
   "id": "cb9f20e1",
   "metadata": {},
   "outputs": [
    {
     "name": "stdout",
     "output_type": "stream",
     "text": [
      "x = [-1, 0, 1]\n",
      "arcsin(x) = [-1.57079633  0.          1.57079633]\n",
      "arccos(x) = [3.14159265 1.57079633 0.        ]\n",
      "arctan(x) = [-0.78539816  0.          0.78539816]\n"
     ]
    }
   ],
   "source": [
    "# Inverse trigonometric functions\n",
    "import numpy as np\n",
    "# Define an array of values\n",
    "x = [-1, 0, 1]\n",
    "print(\"x =\", x)\n",
    "# 1. sine inverse\n",
    "print(\"arcsin(x) =\", np.arcsin(x))\n",
    "# 2. cosine inverse\n",
    "print(\"arccos(x) =\", np.arccos(x))\n",
    "# 3. tangent inverse\n",
    "print(\"arctan(x) =\", np.arctan(x))"
   ]
  },
  {
   "cell_type": "code",
   "execution_count": 34,
   "id": "ea698807",
   "metadata": {},
   "outputs": [
    {
     "name": "stdout",
     "output_type": "stream",
     "text": [
      "x = [1 2 3]\n",
      "e^x = [ 2.71828183  7.3890561  20.08553692]\n",
      "2^x = [2. 4. 8.]\n",
      "4^x = [ 4 16 64]\n"
     ]
    }
   ],
   "source": [
    "# Exponential functions\n",
    "import numpy as np\n",
    "x = np.array([1, 2, 3])\n",
    "print(\"x =\", x)\n",
    "# 1. e^x\n",
    "print(\"e^x =\", np.exp(x))\n",
    "# 2. 2^x\n",
    "print(\"2^x =\", np.exp2(x))\n",
    "# 3. y^x\n",
    "print(\"4^x =\", np.power(4, x))"
   ]
  },
  {
   "cell_type": "code",
   "execution_count": 36,
   "id": "81899503",
   "metadata": {},
   "outputs": [
    {
     "name": "stdout",
     "output_type": "stream",
     "text": [
      "x = [ 1  2  4 10]\n",
      "log(x) = [0.         0.69314718 1.38629436 2.30258509]\n",
      "log2(x) = [0.         1.         2.         3.32192809]\n",
      "log10(x) = [0.         0.30103    0.60205999 1.        ]\n"
     ]
    }
   ],
   "source": [
    "# Logarithmic functions\n",
    "import numpy as np\n",
    "x = np.array([1, 2, 4, 10])\n",
    "print(\"x =\", x)\n",
    "# 1. log(x) = Base e\n",
    "print(\"log(x) =\", np.log(x))\n",
    "# 2. log2(x) = Base 2\n",
    "print(\"log2(x) =\", np.log2(x))\n",
    "# 3. log10(x) = Base 10\n",
    "print(\"log10(x) =\", np.log10(x))"
   ]
  },
  {
   "cell_type": "code",
   "execution_count": 41,
   "id": "9caeab64",
   "metadata": {},
   "outputs": [
    {
     "name": "stdout",
     "output_type": "stream",
     "text": [
      "[False False  True]\n",
      "[ True False False]\n",
      "[False  True  True]\n",
      "[ True  True False]\n",
      "[False  True False]\n"
     ]
    }
   ],
   "source": [
    "# Comparison functions\n",
    "import numpy as np\n",
    "a = np.array([1, 2, 3])\n",
    "b = np.array([3, 2, 1])\n",
    "# 1. greater than\n",
    "print(np.greater(a, b))\n",
    "# 2. less than\n",
    "print(np.less(a, b))\n",
    "# 3. greater than or equal to\n",
    "print(np.greater_equal(a, b))\n",
    "# 4. less than or equal to\n",
    "print(np.less_equal(a, b))\n",
    "# 5. equal\n",
    "print(np.equal(a, b))"
   ]
  },
  {
   "cell_type": "code",
   "execution_count": 43,
   "id": "3465bc7c",
   "metadata": {},
   "outputs": [
    {
     "name": "stdout",
     "output_type": "stream",
     "text": [
      "[False False  True]\n",
      "[ True False  True]\n",
      "[False  True False]\n"
     ]
    }
   ],
   "source": [
    "# Logical functions\n",
    "import numpy as np\n",
    "a = np.array([True, False, True])\n",
    "b = np.array([False, False, True])\n",
    "# 1. and\n",
    "print(np.logical_and(a, b))\n",
    "# 2. or\n",
    "print(np.logical_or(a, b))\n",
    "# not\n",
    "print(np.logical_not(a))"
   ]
  },
  {
   "cell_type": "code",
   "execution_count": 47,
   "id": "e757eb04",
   "metadata": {},
   "outputs": [
    {
     "name": "stdout",
     "output_type": "stream",
     "text": [
      "[0 1 2 3 4]\n",
      "[0.0e+000 4.9e-324 9.9e-324 1.5e-323 2.0e-323]\n",
      "[ 0.  3.  6.  9. 12.]\n",
      "[0. 0. 0. 0. 0. 0. 0. 0. 0. 0.]\n",
      "[ 1.  0.  2.  0.  4.  0.  8.  0. 16.  0.]\n"
     ]
    }
   ],
   "source": [
    "# We can specify the array where the result of the calculation will be stored using out argument\n",
    "import numpy as np \n",
    "x = np.arange(5)\n",
    "print(x)\n",
    "# Example 1\n",
    "y = np.empty(5)\n",
    "print(y)\n",
    "np.multiply(x, 3, out=y)\n",
    "print(y)\n",
    "# Example 2\n",
    "z = np.zeros(10)\n",
    "print(z)\n",
    "np.power(2, x, out=z[::2])\n",
    "print(z)"
   ]
  }
 ],
 "metadata": {
  "kernelspec": {
   "display_name": "Python 3",
   "language": "python",
   "name": "python3"
  },
  "language_info": {
   "codemirror_mode": {
    "name": "ipython",
    "version": 3
   },
   "file_extension": ".py",
   "mimetype": "text/x-python",
   "name": "python",
   "nbconvert_exporter": "python",
   "pygments_lexer": "ipython3",
   "version": "3.12.2"
  }
 },
 "nbformat": 4,
 "nbformat_minor": 5
}
