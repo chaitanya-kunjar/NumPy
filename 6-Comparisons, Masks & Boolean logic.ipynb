{
 "cells": [
  {
   "cell_type": "code",
   "execution_count": 8,
   "id": "78ae2f98",
   "metadata": {},
   "outputs": [
    {
     "name": "stdout",
     "output_type": "stream",
     "text": [
      "x = [1 2 3 4 5]\n",
      "x < 3 = [ True  True False False False]\n",
      "x > 3 = [False False False  True  True]\n",
      "x <= 3 = [ True  True  True False False]\n",
      "x >= 3 = [False False  True  True  True]\n",
      "x != 3 = [ True  True False  True  True]\n",
      "x == 3 = [False False  True False False]\n"
     ]
    }
   ],
   "source": [
    "# Comparison operators\n",
    "import numpy as np\n",
    "x = np.array([1, 2, 3, 4, 5])\n",
    "print(\"x =\", x)\n",
    "# 1. less than\n",
    "print(\"x < 3 =\", (x<3))\n",
    "# 2. greater than\n",
    "print(\"x > 3 =\", (x>3))\n",
    "# 3. less than or equal\n",
    "print(\"x <= 3 =\", (x<=3))\n",
    "# 4. greater than or equal\n",
    "print(\"x >= 3 =\", (x>=3))\n",
    "# 5. not equal\n",
    "print(\"x != 3 =\", (x!=3))\n",
    "# 6. equal\n",
    "print(\"x == 3 =\", (x==3))"
   ]
  },
  {
   "cell_type": "code",
   "execution_count": 11,
   "id": "747296c3",
   "metadata": {},
   "outputs": [
    {
     "name": "stdout",
     "output_type": "stream",
     "text": [
      "x = [1 2 3 4 5]\n",
      "x < 3 = [ True  True False False False]\n",
      "x > 3 = [False False False  True  True]\n",
      "x <= 3 = [ True  True  True False False]\n",
      "x >= 3 = [False False  True  True  True]\n",
      "x != 3 = [ True  True False  True  True]\n",
      "x == 3 = [False False  True False False]\n"
     ]
    }
   ],
   "source": [
    "# Universal functions for comparison operations\n",
    "import numpy as np\n",
    "x = np.array([1, 2, 3, 4, 5])\n",
    "print(\"x =\", x)\n",
    "print(\"x < 3 =\", np.less(x, 3))\n",
    "print(\"x > 3 =\", np.greater(x, 3))\n",
    "print(\"x <= 3 =\", np.less_equal(x, 3))\n",
    "print(\"x >= 3 =\", np.greater_equal(x, 3))\n",
    "print(\"x != 3 =\", np.not_equal(x, 3))\n",
    "print(\"x == 3 =\", np.equal(x, 3))"
   ]
  },
  {
   "cell_type": "code",
   "execution_count": 15,
   "id": "facee08f",
   "metadata": {},
   "outputs": [
    {
     "name": "stdout",
     "output_type": "stream",
     "text": [
      "[[ 0  1  2  3]\n",
      " [ 4  5  6  7]\n",
      " [ 8  9 10 11]]\n",
      "M < 3 =\n",
      "[[ True  True  True False]\n",
      " [False False False False]\n",
      " [False False False False]]\n",
      "M > 3 =\n",
      "[[False False False False]\n",
      " [ True  True  True  True]\n",
      " [ True  True  True  True]]\n"
     ]
    }
   ],
   "source": [
    "# Comparison operations on 2D arrays\n",
    "import numpy as np \n",
    "M = np.arange(12).reshape((3,4))\n",
    "print(M)\n",
    "print(\"M < 3 =\")\n",
    "print((M<3))\n",
    "print(\"M > 3 =\")\n",
    "print(np.greater(M, 3))"
   ]
  },
  {
   "cell_type": "code",
   "execution_count": 37,
   "id": "6c63dde9",
   "metadata": {},
   "outputs": [
    {
     "name": "stdout",
     "output_type": "stream",
     "text": [
      "[[1 9 9 5]\n",
      " [7 6 9 1]\n",
      " [3 9 8 1]]\n",
      "M < 6 = 5\n",
      "M < 6 = 5\n",
      "M < 6 (Each column) = [2 0 0 3]\n",
      "M < 6 (Each row) = [2 1 2]\n",
      "True\n",
      "False\n",
      "[False False False  True]\n",
      "[False False  True]\n",
      "True\n",
      "False\n",
      "[False False False False]\n",
      "[False False False]\n"
     ]
    }
   ],
   "source": [
    "# Counting entries\n",
    "import numpy as np\n",
    "# Create a 2D array filled with random integers in the range [0, 10)\n",
    "M = np.random.randint(0, 10, (3,4))\n",
    "print(M)\n",
    "# 1. Count the no. of values less than 6\n",
    "# Method 1 : count_nonzero() = Counts the no. of True entries in a Boolean array\n",
    "print(\"M < 6 =\", np.count_nonzero(M < 6))\n",
    "# Method 2 : sum() = False is interpreted as 0 and True is interpreted as 1\n",
    "print(\"M < 6 =\", np.sum(M < 6))\n",
    "# sum() to find result for each column\n",
    "print(\"M < 6 (Each column) =\", np.sum(M < 6, axis=0))\n",
    "# sum() to find result for each row\n",
    "print(\"M < 6 (Each row) =\", np.sum(M < 6, axis=1))\n",
    "# 2. any() = Evaluates whether any element is True\n",
    "# Are there any values greater than 8?\n",
    "print(np.any(M > 8))\n",
    "# Are there any values less than zero?\n",
    "print(np.any(M < 0))\n",
    "# For each column\n",
    "print(np.any(M == 5, axis=0))\n",
    "# For each row\n",
    "print(np.any(M ==3, axis=1))\n",
    "# 3. all() = Evaluates wheteher all elements are True\n",
    "# Are all values less than 10?\n",
    "print(np.all(M < 10))\n",
    "# Are all values equal to 6?\n",
    "print(np.all(M == 6))\n",
    "# For each column\n",
    "print(np.all(M < 5, axis=0))\n",
    "# For each row\n",
    "print(np.all(M > 3, axis=1))"
   ]
  },
  {
   "cell_type": "code",
   "execution_count": 54,
   "id": "4d94ee74",
   "metadata": {},
   "outputs": [
    {
     "name": "stdout",
     "output_type": "stream",
     "text": [
      "365\n",
      "[0.   0.06 0.   0.4  0.32 0.   0.   0.   0.01 0.23 0.06 0.   0.   0.\n",
      " 0.38 0.   1.03 0.84 0.02 0.   0.   0.03 0.23 0.02 0.   0.   0.03 0.\n",
      " 0.   0.   0.   0.06 0.29 0.05 0.33 1.03 0.68 0.93 0.14 0.24 0.01 0.\n",
      " 0.04 0.   0.01 0.   0.   0.   0.   0.18 0.03 0.   0.   0.   0.   0.16\n",
      " 0.37 0.72 0.   0.   0.   0.   0.   0.   0.   0.   0.   0.   0.03 0.1\n",
      " 0.   0.08 0.67 2.2  0.04 0.03 0.   0.   0.16 0.15 0.04 0.32 0.3  0.2\n",
      " 0.   0.04 0.   0.   0.07 0.04 0.2  0.   0.06 0.   0.   0.04 0.02 0.\n",
      " 0.   0.43 0.   0.   0.55 0.13 0.   0.   0.   0.   0.   0.   0.22 0.\n",
      " 0.12 0.13 0.05 0.   0.01 0.07 0.   0.   0.   0.   0.   0.   0.24 0.\n",
      " 0.   0.   0.   0.   0.   0.17 0.16 0.01 0.   0.   0.   0.   0.   0.\n",
      " 0.   0.   0.   0.   0.   0.   0.   0.   0.   0.   0.   0.18 0.02 0.\n",
      " 0.   0.   0.   0.   0.   0.   0.   0.   0.   0.   0.   0.   0.   0.\n",
      " 0.   0.02 0.   0.   0.   0.   0.   0.   0.   0.   0.01 0.   0.   0.\n",
      " 0.   0.   0.   0.   0.   0.   0.   0.   0.   0.   0.   0.   0.   0.\n",
      " 0.   0.   0.   0.   0.   0.   0.   0.   0.01 0.   0.08 0.   0.   0.\n",
      " 0.   0.   0.   0.   0.   0.   0.   0.   0.   0.   0.   0.   0.   0.3\n",
      " 0.   1.2  0.   0.   0.   0.   0.   0.08 0.   0.   0.   0.   0.   0.\n",
      " 0.   0.02 1.28 0.4  0.   0.23 0.   0.   0.   0.01 0.21 0.01 0.   0.\n",
      " 0.   0.   0.   0.02 0.   0.   0.04 0.07 0.   0.   0.16 0.   0.   0.\n",
      " 0.   0.08 0.   0.   0.   0.   0.   0.   0.   0.   0.   0.   0.   0.39\n",
      " 0.   0.01 1.13 0.   0.18 0.05 0.   0.   0.   0.01 0.15 0.01 0.   0.\n",
      " 0.   0.   0.   0.35 0.27 0.   0.13 0.07 0.76 1.3  1.03 0.01 0.03 0.\n",
      " 0.05 0.   0.5  0.26 0.13 0.05 0.06 0.39 1.32 1.86 0.88 0.08 1.16 0.06\n",
      " 0.08 0.   0.   0.   0.12 0.28 0.   0.   0.   0.   0.   0.02 0.48 0.1\n",
      " 0.5  0.08 0.62 0.44 1.08 2.13 0.53 0.37 0.01 0.63 0.05 0.   0.06 0.14\n",
      " 0.86 0.73 0.   0.17 1.08 0.18 0.24 0.1  0.23 0.   0.34 0.06 0.   0.\n",
      " 0.  ]\n"
     ]
    }
   ],
   "source": [
    "# SEATTLE WEATHER\n",
    "import numpy as np\n",
    "import pandas as pd\n",
    "data = pd.read_csv('seattle_weather.csv')\n",
    "data['DATE'] = pd.to_datetime(data['DATE'])\n",
    "data_2015 = data[data['DATE'].dt.year == 2015]\n",
    "rainfall_mm = data_2015['PRCP'].to_numpy()\n",
    "print(len(rainfall_mm))\n",
    "print(rainfall_mm)"
   ]
  },
  {
   "cell_type": "code",
   "execution_count": 58,
   "id": "96399728",
   "metadata": {},
   "outputs": [
    {
     "name": "stdout",
     "output_type": "stream",
     "text": [
      "Number of days without rain = 221\n",
      "Number of days with rain = 144\n",
      "Days with more than 1 = 14\n",
      "Rainy days with < 0.5 mm = 336\n",
      "Days with more than 1 mm and less than 2 mm = 12\n"
     ]
    }
   ],
   "source": [
    "# Using boolean operators on the above data\n",
    "print(\"Number of days without rain =\", np.sum(rainfall_mm == 0))\n",
    "print(\"Number of days with rain =\", np.sum(rainfall_mm != 0))\n",
    "print(\"Days with more than 1 =\", np.sum(rainfall_mm > 1))\n",
    "print(\"Rainy days with < 0.5 mm =\", np.sum(rainfall_mm < 0.5))\n",
    "print(\"Days with more than 1 mm and less than 2 mm =\", np.sum((rainfall_mm > 1) & (rainfall_mm < 2)))"
   ]
  },
  {
   "cell_type": "code",
   "execution_count": null,
   "id": "b8675d1c",
   "metadata": {},
   "outputs": [
    {
     "name": "stdout",
     "output_type": "stream",
     "text": [
      "[[4 2 0 7]\n",
      " [2 6 1 6]\n",
      " [5 5 9 1]]\n",
      "[[ True  True  True False]\n",
      " [ True False  True False]\n",
      " [False False False  True]]\n",
      "[4 2 0 2 1 1]\n"
     ]
    }
   ],
   "source": [
    "# Boolean arrays as masks\n",
    "import numpy as np\n",
    "M = np.random.randint(0, 10, (3,4))\n",
    "print(M)\n",
    "# The following will return a boolean array\n",
    "print(M < 5)\n",
    "# Masking operation = Select desired values from the array meeting a specific condition\n",
    "print(M[M<5])"
   ]
  },
  {
   "cell_type": "code",
   "execution_count": 71,
   "id": "c6c7c579",
   "metadata": {},
   "outputs": [
    {
     "name": "stdout",
     "output_type": "stream",
     "text": [
      "False\n",
      "True\n",
      "True\n",
      "False\n",
      "0b101010\n",
      "0b111011\n",
      "0b101010\n",
      "0b100010\n",
      "0b110110\n",
      "0b110110\n"
     ]
    }
   ],
   "source": [
    "# Difference between keywords and/or and operators &/|\n",
    "# and/or = Operate on the object as a whole\n",
    "# &/| = Operate on the elements within the object\n",
    "\n",
    "# and\n",
    "print(bool(42 and 0))\n",
    "# True and False = False\n",
    "print(bool(42 and 24))\n",
    "# True and True = True\n",
    "\n",
    "# or\n",
    "print(bool(42 or 0))\n",
    "# True or False = True\n",
    "print(bool(0 or 0))\n",
    "# False or False = False\n",
    "\n",
    "# &\n",
    "print(bin(42))\n",
    "print(bin(59))\n",
    "#   1 0 1 0 1 0\n",
    "# & 1 1 1 0 1 1\n",
    "#   1 0 1 0 1 0\n",
    "res = 42 & 59\n",
    "print(bin(res))\n",
    "\n",
    "# |\n",
    "print(bin(34))\n",
    "print(bin(54))\n",
    "#   1 0 0 0 1 0\n",
    "# | 1 1 0 1 1 0\n",
    "#   1 1 0 1 1 0\n",
    "res = 34 | 54\n",
    "print(bin(res))"
   ]
  },
  {
   "cell_type": "code",
   "execution_count": 74,
   "id": "f1092bac",
   "metadata": {},
   "outputs": [
    {
     "name": "stdout",
     "output_type": "stream",
     "text": [
      "[ True  True  True False  True  True]\n"
     ]
    }
   ],
   "source": [
    "# Operators & and | are used to operate an NumPy array with boolean values\n",
    "import numpy as np\n",
    "A = np.array([1, 0, 1, 0, 1, 0], dtype=bool)\n",
    "B = np.array([1, 1, 1, 0, 1, 1], dtype=bool)\n",
    "print(A | B)"
   ]
  },
  {
   "cell_type": "code",
   "execution_count": 75,
   "id": "063e9964",
   "metadata": {},
   "outputs": [
    {
     "ename": "ValueError",
     "evalue": "The truth value of an array with more than one element is ambiguous. Use a.any() or a.all()",
     "output_type": "error",
     "traceback": [
      "\u001b[1;31m---------------------------------------------------------------------------\u001b[0m",
      "\u001b[1;31mValueError\u001b[0m                                Traceback (most recent call last)",
      "Cell \u001b[1;32mIn[75], line 5\u001b[0m\n\u001b[0;32m      3\u001b[0m A \u001b[38;5;241m=\u001b[39m np\u001b[38;5;241m.\u001b[39marray([\u001b[38;5;241m1\u001b[39m, \u001b[38;5;241m0\u001b[39m, \u001b[38;5;241m1\u001b[39m, \u001b[38;5;241m0\u001b[39m, \u001b[38;5;241m1\u001b[39m, \u001b[38;5;241m0\u001b[39m], dtype\u001b[38;5;241m=\u001b[39m\u001b[38;5;28mbool\u001b[39m)\n\u001b[0;32m      4\u001b[0m B \u001b[38;5;241m=\u001b[39m np\u001b[38;5;241m.\u001b[39marray([\u001b[38;5;241m1\u001b[39m, \u001b[38;5;241m1\u001b[39m, \u001b[38;5;241m1\u001b[39m, \u001b[38;5;241m0\u001b[39m, \u001b[38;5;241m1\u001b[39m, \u001b[38;5;241m1\u001b[39m], dtype\u001b[38;5;241m=\u001b[39m\u001b[38;5;28mbool\u001b[39m)\n\u001b[1;32m----> 5\u001b[0m \u001b[38;5;28mprint\u001b[39m(\u001b[43mA\u001b[49m\u001b[43m \u001b[49m\u001b[38;5;129;43;01mor\u001b[39;49;00m\u001b[43m \u001b[49m\u001b[43mB\u001b[49m)\n",
      "\u001b[1;31mValueError\u001b[0m: The truth value of an array with more than one element is ambiguous. Use a.any() or a.all()"
     ]
    }
   ],
   "source": [
    "# However, keywords and/or will give error as they will try to evaluate the truth or falsehood of the entire array object\n",
    "import numpy as np\n",
    "A = np.array([1, 0, 1, 0, 1, 0], dtype=bool)\n",
    "B = np.array([1, 1, 1, 0, 1, 1], dtype=bool)\n",
    "print(A or B)"
   ]
  },
  {
   "cell_type": "code",
   "execution_count": 77,
   "id": "d78dae94",
   "metadata": {},
   "outputs": [
    {
     "name": "stdout",
     "output_type": "stream",
     "text": [
      "[0 1 2 3 4 5 6 7 8 9]\n",
      "[False False False False False  True  True  True False False]\n"
     ]
    }
   ],
   "source": [
    "# Operators & and | are used to evaluate boolean expressions on a given array\n",
    "import numpy as np\n",
    "x = np.arange(10)\n",
    "print(x)\n",
    "print((x>4) & (x<8))"
   ]
  },
  {
   "cell_type": "code",
   "execution_count": 78,
   "id": "a32ee343",
   "metadata": {},
   "outputs": [
    {
     "name": "stdout",
     "output_type": "stream",
     "text": [
      "[0 1 2 3 4 5 6 7 8 9]\n"
     ]
    },
    {
     "ename": "ValueError",
     "evalue": "The truth value of an array with more than one element is ambiguous. Use a.any() or a.all()",
     "output_type": "error",
     "traceback": [
      "\u001b[1;31m---------------------------------------------------------------------------\u001b[0m",
      "\u001b[1;31mValueError\u001b[0m                                Traceback (most recent call last)",
      "Cell \u001b[1;32mIn[78], line 5\u001b[0m\n\u001b[0;32m      3\u001b[0m x \u001b[38;5;241m=\u001b[39m np\u001b[38;5;241m.\u001b[39marange(\u001b[38;5;241m10\u001b[39m)\n\u001b[0;32m      4\u001b[0m \u001b[38;5;28mprint\u001b[39m(x)\n\u001b[1;32m----> 5\u001b[0m \u001b[38;5;28mprint\u001b[39m(\u001b[43m(\u001b[49m\u001b[43mx\u001b[49m\u001b[38;5;241;43m>\u001b[39;49m\u001b[38;5;241;43m4\u001b[39;49m\u001b[43m)\u001b[49m\u001b[43m \u001b[49m\u001b[38;5;129;43;01mand\u001b[39;49;00m\u001b[43m \u001b[49m\u001b[43m(\u001b[49m\u001b[43mx\u001b[49m\u001b[38;5;241;43m<\u001b[39;49m\u001b[38;5;241;43m8\u001b[39;49m\u001b[43m)\u001b[49m)\n",
      "\u001b[1;31mValueError\u001b[0m: The truth value of an array with more than one element is ambiguous. Use a.any() or a.all()"
     ]
    }
   ],
   "source": [
    "# However, keywords and/or will give error as they will try to evaluate the truth or falsehood of the entire array object\n",
    "import numpy as np\n",
    "x = np.arange(10)\n",
    "print(x)\n",
    "print((x>4) and (x<8))"
   ]
  }
 ],
 "metadata": {
  "kernelspec": {
   "display_name": "Python 3",
   "language": "python",
   "name": "python3"
  },
  "language_info": {
   "codemirror_mode": {
    "name": "ipython",
    "version": 3
   },
   "file_extension": ".py",
   "mimetype": "text/x-python",
   "name": "python",
   "nbconvert_exporter": "python",
   "pygments_lexer": "ipython3",
   "version": "3.12.2"
  }
 },
 "nbformat": 4,
 "nbformat_minor": 5
}
