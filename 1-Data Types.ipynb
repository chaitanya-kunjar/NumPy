{
 "cells": [
  {
   "cell_type": "code",
   "execution_count": 4,
   "id": "8e09c669",
   "metadata": {},
   "outputs": [
    {
     "name": "stdout",
     "output_type": "stream",
     "text": [
      "[0, 1, 2, 3, 4, 5, 6, 7, 8, 9]\n",
      "[<class 'int'>, <class 'int'>, <class 'int'>, <class 'int'>, <class 'int'>, <class 'int'>, <class 'int'>, <class 'int'>, <class 'int'>, <class 'int'>]\n",
      "[0.0, 1.0, 2.0, 3.0, 4.0, 5.0, 6.0, 7.0, 8.0, 9.0]\n",
      "[<class 'float'>, <class 'float'>, <class 'float'>, <class 'float'>, <class 'float'>, <class 'float'>, <class 'float'>, <class 'float'>, <class 'float'>, <class 'float'>]\n",
      "['0', '1', '2', '3', '4', '5', '6', '7', '8', '9']\n",
      "[<class 'str'>, <class 'str'>, <class 'str'>, <class 'str'>, <class 'str'>, <class 'str'>, <class 'str'>, <class 'str'>, <class 'str'>, <class 'str'>]\n"
     ]
    }
   ],
   "source": [
    "# Creating homogenous lists = Elements of same data type\n",
    "# 1. List of integers\n",
    "l1 = list(range(10))\n",
    "print(l1)\n",
    "print([type(item) for item in l1])\n",
    "# 2. List of floting points\n",
    "l2 = [float(x) for x in l1]\n",
    "print(l2)\n",
    "print([type(item) for item in l2])\n",
    "# 3. List of strings\n",
    "l3 = [str(c) for c in l1]\n",
    "print(l3)\n",
    "print([type(item) for item in l3])"
   ]
  },
  {
   "cell_type": "code",
   "execution_count": 5,
   "id": "bba6686a",
   "metadata": {},
   "outputs": [
    {
     "name": "stdout",
     "output_type": "stream",
     "text": [
      "[10, 3.14, 'hello', True, (2+3j)]\n",
      "[<class 'int'>, <class 'float'>, <class 'str'>, <class 'bool'>, <class 'complex'>]\n"
     ]
    }
   ],
   "source": [
    "# Creating heterogenous list = Elements of different data types\n",
    "l = [10, 3.14, 'hello', True, (2+3j)]\n",
    "print(l)\n",
    "print([type(item) for item in l])"
   ]
  },
  {
   "cell_type": "code",
   "execution_count": null,
   "id": "8b94427b",
   "metadata": {},
   "outputs": [
    {
     "name": "stdout",
     "output_type": "stream",
     "text": [
      "[0, 1, 2, 3, 4, 5, 6, 7, 8, 9]\n",
      "<class 'list'>\n",
      "array('i', [0, 1, 2, 3, 4, 5, 6, 7, 8, 9])\n",
      "<class 'array.array'>\n",
      "array('f', [0.0, 1.0, 2.0, 3.0, 4.0, 5.0, 6.0, 7.0, 8.0, 9.0])\n",
      "<class 'array.array'>\n"
     ]
    }
   ],
   "source": [
    "# Arrays in Python (Using the built-in array module)\n",
    "import array\n",
    "# Creating a list\n",
    "l = list(range(10))\n",
    "print(l)\n",
    "print(type(l))\n",
    "# array() = Function to create an array\n",
    "# 1. Array of integers (Using the type code 'i')\n",
    "a1 = array.array('i', l)\n",
    "print(a1)\n",
    "print(type(a1))\n",
    "# 2. Array of floating points (Using the type code 'f')\n",
    "a2 = array.array('f', l)\n",
    "print(a2)\n",
    "print(type(a2))"
   ]
  },
  {
   "cell_type": "code",
   "execution_count": 12,
   "id": "19c5f02e",
   "metadata": {},
   "outputs": [
    {
     "name": "stdout",
     "output_type": "stream",
     "text": [
      "[1 2 3 4 5]\n",
      "<class 'numpy.ndarray'>\n",
      "[0 1 2 3 4 5 6 7 8 9]\n",
      "<class 'numpy.ndarray'>\n"
     ]
    }
   ],
   "source": [
    "import numpy as np\n",
    "# array() = Function to create array\n",
    "# Creating NumPy arrays from lists\n",
    "a1 = np.array([1, 2, 3, 4, 5])\n",
    "print(a1)\n",
    "print(type(a1))\n",
    "# Creating NumPy arrays using range()\n",
    "a2 = np.array(range(10))\n",
    "print(a2)\n",
    "print(type(a2))"
   ]
  },
  {
   "cell_type": "code",
   "execution_count": 16,
   "id": "48a8302e",
   "metadata": {},
   "outputs": [
    {
     "name": "stdout",
     "output_type": "stream",
     "text": [
      "[1, 2, 3.14, 4, 5]\n",
      "[<class 'int'>, <class 'int'>, <class 'float'>, <class 'int'>, <class 'int'>]\n",
      "[1.   2.   3.14 4.   5.  ]\n",
      "[<class 'numpy.float64'>, <class 'numpy.float64'>, <class 'numpy.float64'>, <class 'numpy.float64'>, <class 'numpy.float64'>]\n"
     ]
    }
   ],
   "source": [
    "# Type promotion in NumPy arrays\n",
    "import numpy as np\n",
    "# Creating a list of elements with integer and float data types \n",
    "l = [1, 2, 3.14, 4, 5]\n",
    "print(l)\n",
    "print([type(item) for item in l])\n",
    "# Creating a NumPy array from this list\n",
    "a = np.array(l)\n",
    "print(a)\n",
    "print([type(item) for item in a])"
   ]
  },
  {
   "cell_type": "code",
   "execution_count": 21,
   "id": "c81336af",
   "metadata": {},
   "outputs": [
    {
     "name": "stdout",
     "output_type": "stream",
     "text": [
      "[1. 2. 3. 4. 5.]\n",
      "[<class 'numpy.float64'>, <class 'numpy.float64'>, <class 'numpy.float64'>, <class 'numpy.float64'>, <class 'numpy.float64'>]\n",
      "[1 3 5 7 9]\n",
      "[<class 'numpy.int64'>, <class 'numpy.int64'>, <class 'numpy.int64'>, <class 'numpy.int64'>, <class 'numpy.int64'>]\n",
      "[False  True  True  True  True]\n",
      "[<class 'numpy.bool'>, <class 'numpy.bool'>, <class 'numpy.bool'>, <class 'numpy.bool'>, <class 'numpy.bool'>]\n",
      "[1.2+0.j 3.4+0.j 5.6+0.j 7.8+0.j 9. +0.j]\n",
      "[<class 'numpy.complex128'>, <class 'numpy.complex128'>, <class 'numpy.complex128'>, <class 'numpy.complex128'>, <class 'numpy.complex128'>]\n"
     ]
    }
   ],
   "source": [
    "# Explicitly set data type of NumPy arrays using dtype keyword\n",
    "import numpy as np\n",
    "# From int to float\n",
    "arr1 = np.array([1, 2, 3, 4, 5], dtype=float)\n",
    "print(arr1)\n",
    "print([type(item) for item in arr1])\n",
    "# From float to int\n",
    "arr2 = np.array([1.2, 3.4, 5.6, 7.8, 9.0], dtype=int)\n",
    "print(arr2)\n",
    "print([type(item) for item in arr2])\n",
    "# From int to bool\n",
    "arr3 = np.array([0, 1, 2, 3, 4], dtype=bool)\n",
    "print(arr3)\n",
    "print([type(item) for item in arr3])\n",
    "# From float to complex\n",
    "arr4 = np.array([1.2, 3.4, 5.6, 7.8, 9.0], dtype=complex)\n",
    "print(arr4)\n",
    "print([type(item) for item in arr4])"
   ]
  },
  {
   "cell_type": "code",
   "execution_count": 33,
   "id": "f3948bee",
   "metadata": {},
   "outputs": [
    {
     "name": "stdout",
     "output_type": "stream",
     "text": [
      "[[1 2 3]\n",
      " [4 5 6]\n",
      " [7 8 9]]\n",
      "[[0 1 2]\n",
      " [1 2 3]\n",
      " [2 3 4]\n",
      " [3 4 5]\n",
      " [4 5 6]]\n",
      "[[ 2  3  4  5  6]\n",
      " [ 4  5  6  7  8]\n",
      " [ 6  7  8  9 10]\n",
      " [ 8  9 10 11 12]]\n",
      "[[1 2 3]\n",
      " [1 2 3]\n",
      " [1 2 3]\n",
      " [1 2 3]\n",
      " [1 2 3]]\n"
     ]
    }
   ],
   "source": [
    "# Creating multidimensional arrays\n",
    "import numpy as np\n",
    "# 1. From nested lists\n",
    "# Each list represents a single row\n",
    "m1 = np.array([[1, 2, 3], [4, 5, 6], [7, 8, 9]])\n",
    "print(m1)\n",
    "# 2. Using range()\n",
    "# Outer range() is for rows and inner range() is for columns in each row\n",
    "m2 = np.array([range(i, i+3) for i in range(5)])\n",
    "print(m2)\n",
    "# 3. Combination of both\n",
    "m3 = np.array([range(i, i+5) for i in [2, 4, 6, 8]])\n",
    "print(m3)\n",
    "m4 = np.array([[1, 2, 3] for i in range(5)])\n",
    "print(m4)"
   ]
  },
  {
   "cell_type": "code",
   "execution_count": 51,
   "id": "2a771306",
   "metadata": {},
   "outputs": [
    {
     "name": "stdout",
     "output_type": "stream",
     "text": [
      "[0 0 0 0 0 0 0 0 0 0]\n",
      "[[0. 0. 0.]\n",
      " [0. 0. 0.]]\n",
      "\n",
      "[1 1 1 1 1 1 1 1 1 1]\n",
      "[[1. 1. 1. 1.]\n",
      " [1. 1. 1. 1.]\n",
      " [1. 1. 1. 1.]]\n",
      "\n",
      "[5 5 5 5 5 5 5 5 5 5]\n",
      "[[3.14 3.14 3.14]\n",
      " [3.14 3.14 3.14]\n",
      " [3.14 3.14 3.14]]\n",
      "\n",
      "[ 0  2  4  6  8 10 12 14 16 18]\n",
      "\n",
      "[0.   0.25 0.5  0.75 1.  ]\n",
      "\n",
      "[1. 1. 1. 1. 1. 1. 1. 1.]\n",
      "\n",
      "[[1. 0. 0.]\n",
      " [0. 1. 0.]\n",
      " [0. 0. 1.]]\n",
      "\n"
     ]
    }
   ],
   "source": [
    "# Creating NumPy arrays from scratch\n",
    "import numpy as np\n",
    "# 1. zeros() = Create an array filled with 0s\n",
    "# 1D array\n",
    "a1 = np.zeros(10, dtype=int)\n",
    "print(a1)\n",
    "# 2D array\n",
    "m1 = np.zeros((2,3), dtype=float)\n",
    "print(m1)\n",
    "print()\n",
    "\n",
    "# 2. ones() = Create an array filled with 1s\n",
    "# 1D array\n",
    "a2 = np.ones(10, dtype=int)\n",
    "print(a2)\n",
    "# 2D array\n",
    "m2 = np.ones((3,4), dtype=float)\n",
    "print(m2)\n",
    "print()\n",
    "\n",
    "# 3. full() = Creates an array filled with a specific value\n",
    "# 1D array\n",
    "a3 = np.full(10, 5)\n",
    "print(a3)\n",
    "# 2D array\n",
    "m3 = np.full((3,3), 3.14)\n",
    "print(m3)\n",
    "print()\n",
    "\n",
    "# 4. arange(start, stop, step) = Creates an array filled with a linear sequence from start (inclusive) to stop (exclusive) of difference step\n",
    "a4 = np.arange(0, 20, 2)\n",
    "print(a4)\n",
    "print()\n",
    "\n",
    "# 5. linspace(start, stop, space) = Creates an array of evenly spaced numbers over a specified interval\n",
    "a5 = np.linspace(0, 1, 5)\n",
    "print(a5)\n",
    "print()\n",
    "\n",
    "# 6. empty() = Creates an uninitialized array of integers\n",
    "a6 = np.empty(8)\n",
    "print(a6)\n",
    "print()\n",
    "\n",
    "# 7. eye() = Create an identity matrix\n",
    "i = np.eye(3)\n",
    "print(i)\n",
    "print()"
   ]
  },
  {
   "cell_type": "code",
   "execution_count": 60,
   "id": "7906d0f7",
   "metadata": {},
   "outputs": [
    {
     "name": "stdout",
     "output_type": "stream",
     "text": [
      "[0.26704093 0.55768966 0.61517222 0.83165631 0.52414272]\n",
      "[[0.52488253 0.48833095 0.82265512]\n",
      " [0.73757628 0.47165557 0.45592403]\n",
      " [0.44750018 0.58239504 0.11634504]]\n",
      "\n",
      "[-0.83858805 -1.31805856 -1.39320954  1.32050707  1.07528512]\n",
      "[[ 0.27404532 -0.29049403 -0.85095304]\n",
      " [ 0.06320099  0.31653914 -0.02089272]\n",
      " [ 0.75615238  0.31113869 -0.36418466]]\n",
      "\n",
      "[6 9 7 9 9]\n",
      "[[17 12 17]\n",
      " [12 18 17]\n",
      " [17 18 15]]\n",
      "\n"
     ]
    }
   ],
   "source": [
    "# random module provides functions for generating random numbers\n",
    "import numpy as np\n",
    "# 1. random() = Generates random floats in [0.0, 1.0)\n",
    "# 1D array\n",
    "a1 = np.random.random(5)\n",
    "print(a1)\n",
    "# 2D array\n",
    "m1 = np.random.random((3,3))\n",
    "print(m1)\n",
    "print()\n",
    "\n",
    "# 2. normal() = Generates random values with mean 3 and standard deviation 2.5\n",
    "# 1D array\n",
    "a2 = np.random.normal(3, 2.5, 5)\n",
    "print(a2)\n",
    "m2 = np.random.normal(0, 1, (3,3))\n",
    "print(m2)\n",
    "print()\n",
    "\n",
    "# 3. randint() = Generate random integers in the given interval\n",
    "# 1D array\n",
    "a3 = np.random.randint(0, 10, 5)\n",
    "print(a3)\n",
    "# 2D array\n",
    "m3 = np.random.randint(10, 20, (3,3))\n",
    "print(m3)\n",
    "print()"
   ]
  }
 ],
 "metadata": {
  "kernelspec": {
   "display_name": "Python 3",
   "language": "python",
   "name": "python3"
  },
  "language_info": {
   "codemirror_mode": {
    "name": "ipython",
    "version": 3
   },
   "file_extension": ".py",
   "mimetype": "text/x-python",
   "name": "python",
   "nbconvert_exporter": "python",
   "pygments_lexer": "ipython3",
   "version": "3.12.2"
  }
 },
 "nbformat": 4,
 "nbformat_minor": 5
}
