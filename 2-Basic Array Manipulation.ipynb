{
 "cells": [
  {
   "cell_type": "markdown",
   "id": "ae43e727",
   "metadata": {},
   "source": [
    "# Attributes"
   ]
  },
  {
   "cell_type": "code",
   "execution_count": 2,
   "id": "043d3ee6",
   "metadata": {},
   "outputs": [
    {
     "name": "stdout",
     "output_type": "stream",
     "text": [
      "[5 8 3 7 4]\n",
      "[[7 5 5]\n",
      " [7 3 1]]\n",
      "[[[5 2 6 3]\n",
      "  [2 8 7 8]]\n",
      "\n",
      " [[1 9 4 4]\n",
      "  [8 2 4 7]]\n",
      "\n",
      " [[5 7 1 9]\n",
      "  [2 2 0 8]]]\n"
     ]
    }
   ],
   "source": [
    "# Creating different arrays\n",
    "import numpy as np\n",
    "# 1D array\n",
    "a1 = np.random.randint(0, 10, 5)\n",
    "print(a1)\n",
    "# 2D array\n",
    "a2 = np.random.randint(0, 10, (2,3))\n",
    "print(a2)\n",
    "# 3D array\n",
    "a3 = np.random.randint(0, 10, (3,2,4))\n",
    "print(a3)"
   ]
  },
  {
   "cell_type": "code",
   "execution_count": null,
   "id": "f285e690",
   "metadata": {},
   "outputs": [
    {
     "name": "stdout",
     "output_type": "stream",
     "text": [
      "Data type = int32\n",
      "Dimension = 1\n",
      "Shape = (5,)\n",
      "Size = 5\n"
     ]
    }
   ],
   "source": [
    "# Attributes of 1D array\n",
    "print(\"Data type =\", a1.dtype)\n",
    "print(\"Dimension =\", a1.ndim)\n",
    "print(\"Shape =\", a1.shape)\n",
    "print(\"Size =\", a1.size)"
   ]
  },
  {
   "cell_type": "code",
   "execution_count": 4,
   "id": "5c0547be",
   "metadata": {},
   "outputs": [
    {
     "name": "stdout",
     "output_type": "stream",
     "text": [
      "Data type = int32\n",
      "Dimension = 2\n",
      "Shape = (2, 3)\n",
      "Size = 6\n"
     ]
    }
   ],
   "source": [
    "# Attributes of 2D array\n",
    "print(\"Data type =\", a2.dtype)\n",
    "print(\"Dimension =\", a2.ndim)\n",
    "print(\"Shape =\", a2.shape)\n",
    "print(\"Size =\", a2.size)"
   ]
  },
  {
   "cell_type": "code",
   "execution_count": 5,
   "id": "e96d4c52",
   "metadata": {},
   "outputs": [
    {
     "name": "stdout",
     "output_type": "stream",
     "text": [
      "Data type = int32\n",
      "Dimension = 3\n",
      "Shape = (3, 2, 4)\n",
      "Size = 24\n"
     ]
    }
   ],
   "source": [
    "# Attributes of 3D array\n",
    "print(\"Data type =\", a3.dtype)\n",
    "print(\"Dimension =\", a3.ndim)\n",
    "print(\"Shape =\", a3.shape)\n",
    "print(\"Size =\", a3.size)"
   ]
  },
  {
   "cell_type": "markdown",
   "id": "a7a02e8a",
   "metadata": {},
   "source": [
    "# Indexing"
   ]
  },
  {
   "cell_type": "code",
   "execution_count": null,
   "id": "f027caf0",
   "metadata": {},
   "outputs": [
    {
     "name": "stdout",
     "output_type": "stream",
     "text": [
      "[10 20 30 40 50 60 70 80]\n",
      "40\n",
      "70\n",
      "30\n",
      "60\n",
      "[10 20 90 40 50 60 90 80]\n"
     ]
    }
   ],
   "source": [
    "# 1D array\n",
    "import numpy as np\n",
    "# Create a 1D array of integers\n",
    "arr = np.array([10, 20, 30, 40, 50, 60, 70, 80])\n",
    "print(arr)\n",
    "# Positive indexing is as follows:\n",
    "#  0  1  2  3  4  5  6  7\n",
    "# 10 20 30 40 50 60 70 80 \n",
    "# Accessing elements:\n",
    "print(arr[3])\n",
    "print(arr[6])\n",
    "# Negative indexing is as follows:\n",
    "# -8 -7 -6 -5 -4 -3 -2 -1\n",
    "# 10 20 30 40 50 60 70 80\n",
    "# Accessing elements:\n",
    "print(arr[-6])\n",
    "print(arr[-3])\n",
    "# Modifying values\n",
    "arr[2] = 90\n",
    "arr[-2] = 90\n",
    "print(arr)"
   ]
  },
  {
   "cell_type": "code",
   "execution_count": 5,
   "id": "2e477ead",
   "metadata": {},
   "outputs": [
    {
     "name": "stdout",
     "output_type": "stream",
     "text": [
      "[[1 2 3]\n",
      " [4 5 6]\n",
      " [7 8 9]]\n",
      "3\n",
      "8\n",
      "2\n",
      "6\n",
      "[[1 2 0]\n",
      " [4 5 6]\n",
      " [0 8 9]]\n"
     ]
    }
   ],
   "source": [
    "# 2D array\n",
    "import numpy as np\n",
    "# Create a 2D array of integers\n",
    "mat = np.array([[1, 2, 3], [4, 5, 6], [7, 8, 9]])\n",
    "print(mat)\n",
    "# Positive indexing is as follows:\n",
    "#   0 1 2\n",
    "# 0 1 2 3\n",
    "# 1 4 5 6\n",
    "# 2 7 8 9\n",
    "# Accessing elements:\n",
    "print(mat[0,2])\n",
    "print(mat[2,1])\n",
    "# Negative indexing is as follows:\n",
    "#    -3 -2 -1\n",
    "# -3  1  2  3\n",
    "# -2  4  5  6\n",
    "# -1  7  8  9\n",
    "# Accessing elements:\n",
    "print(mat[-3,-2])\n",
    "print(mat[-2,-1])\n",
    "# Modifying values:\n",
    "mat[2,0] = 0\n",
    "mat[-3,-1] = 0\n",
    "print(mat)"
   ]
  },
  {
   "cell_type": "markdown",
   "id": "41599ad9",
   "metadata": {},
   "source": [
    "# Slicing"
   ]
  },
  {
   "cell_type": "code",
   "execution_count": null,
   "id": "b29cffeb",
   "metadata": {},
   "outputs": [
    {
     "name": "stdout",
     "output_type": "stream",
     "text": [
      "[10 20 30 40 50 60 70 80 90]\n",
      "[10 20 30]\n",
      "[40 50 60 70 80 90]\n",
      "[30 40 50 60]\n",
      "[10 30 50 70 90]\n",
      "[40 60 80]\n",
      "[90 80 70 60 50 40 30 20 10]\n",
      "[50 30 10]\n"
     ]
    }
   ],
   "source": [
    "# 1D array\n",
    "import numpy as np\n",
    "x = np.array([10, 20, 30, 40, 50, 60, 70, 80, 90])\n",
    "print(x)\n",
    "# Syntax = x[start:stop:step]\n",
    "# Default values are start = 0, stop = size of array and step = 1\n",
    "# Indexing is as follows:\n",
    "#  0  1  2  3  4  5  6  7  8\n",
    "# 10 20 30 40 50 60 70 80 90\n",
    "\n",
    "# 1. Upto index 3 (First 3 elements)\n",
    "# Index 0, 1, 2\n",
    "print(x[:3])\n",
    "\n",
    "# 2. From index 3\n",
    "# Index 3, 4, 5, 6, 7, 8\n",
    "print(x[3:])\n",
    "\n",
    "# 3. Middle subarray\n",
    "print(x[2:6])\n",
    "\n",
    "# 4. Every second element from beginning to end of array\n",
    "# Index 0, 2, 4, 6, 8\n",
    "print(x[::2])\n",
    "\n",
    "# 5. Every second element, starting from index 3\n",
    "# Index 3, 5, 7\n",
    "print(x[3::2])\n",
    "\n",
    "# 6. Entire array reversed\n",
    "# step = -1 (start and stop are swapped)\n",
    "# Index 8, 7, 6, 5, 4, 3, 2, 1, 0\n",
    "print(x[::-1])\n",
    "\n",
    "# 7. Every second element from index 4 reversed\n",
    "# Index 4, 2, 0\n",
    "print(x[4::-2])"
   ]
  },
  {
   "cell_type": "code",
   "execution_count": 23,
   "id": "fd1b2acb",
   "metadata": {},
   "outputs": [
    {
     "name": "stdout",
     "output_type": "stream",
     "text": [
      "[[10 20 30]\n",
      " [40 50 60]\n",
      " [70 80 90]]\n",
      "[70 80 90]\n",
      "[[10 20 30]\n",
      " [40 50 60]]\n",
      "[20 50 80]\n",
      "[[20 30]\n",
      " [50 60]\n",
      " [80 90]]\n",
      "[[10 20]\n",
      " [40 50]]\n",
      "[[10 30]\n",
      " [40 60]\n",
      " [70 90]]\n",
      "[[90 80 70]\n",
      " [60 50 40]\n",
      " [30 20 10]]\n"
     ]
    }
   ],
   "source": [
    "# 2D array\n",
    "import numpy as np\n",
    "x = np.array([[10, 20, 30], [40, 50, 60], [70, 80, 90]])\n",
    "print(x)\n",
    "# Syntax = x[start:stop:step, start:stop:step]\n",
    "# Indexing is as follows:\n",
    "#    0  1  2\n",
    "# 0 10 20 30\n",
    "# 1 40 50 60\n",
    "# 2 70 80 90\n",
    "\n",
    "# 1. Single row\n",
    "print(x[2, :])\n",
    "\n",
    "# 2. Row slice (Multiple rows)\n",
    "print(x[0:2])\n",
    "\n",
    "# 3. Single column\n",
    "print(x[:, 1])\n",
    "\n",
    "# 4. Column slice (Multiple columns)\n",
    "print(x[:, 1:3])\n",
    "\n",
    "# 5. First 2 rows and 2 columns\n",
    "print(x[0:2, 0:2])\n",
    "\n",
    "# 6. 3 rows, every second column\n",
    "print(x[0:3, ::2])\n",
    "\n",
    "# 7. All rows and columns reversed\n",
    "print(x[::-1, ::-1])"
   ]
  },
  {
   "cell_type": "code",
   "execution_count": 28,
   "id": "340528e3",
   "metadata": {},
   "outputs": [
    {
     "name": "stdout",
     "output_type": "stream",
     "text": [
      "[10, 20, 30, 40, 50, 60]\n",
      "[30, 40, 50]\n",
      "[10, 20, 30, 40, 50, 60]\n",
      "[10 20 30 40 50 60]\n",
      "[30 40 50]\n",
      "[10 20 30 99 50 60]\n"
     ]
    }
   ],
   "source": [
    "# List slicing vs Array slicing\n",
    "import numpy as np\n",
    "\n",
    "# List\n",
    "l = [10, 20, 30, 40, 50, 60]\n",
    "print(l)\n",
    "# List slicing creates a copy\n",
    "l_sub = l[2:5]\n",
    "print(l_sub)\n",
    "# Modifying l_sub\n",
    "l_sub[1] = 99\n",
    "print(l)\n",
    "\n",
    "# Array\n",
    "a = np.array([10, 20, 30, 40, 50, 60])\n",
    "print(a)\n",
    "# Array slicing creates a view\n",
    "a_sub = a[2:5]\n",
    "print(a_sub)\n",
    "# Modifying a_sub\n",
    "a_sub[1] = 99\n",
    "print(a)"
   ]
  },
  {
   "cell_type": "code",
   "execution_count": 31,
   "id": "b91f2bb8",
   "metadata": {},
   "outputs": [
    {
     "name": "stdout",
     "output_type": "stream",
     "text": [
      "[10 20 30 40 50 60]\n",
      "[30 40 50]\n",
      "[10 20 30 40 50 60]\n"
     ]
    }
   ],
   "source": [
    "# Creating copies of NumPy arrays\n",
    "import numpy as np\n",
    "a = np.array([10, 20, 30, 40, 50, 60])\n",
    "print(a)\n",
    "# copy() = Method to explicitly declare a subarray as a copy of the array\n",
    "a_sub_copy = a[2:5].copy()\n",
    "print(a_sub_copy)\n",
    "# Modifying a_sub_copy\n",
    "a_sub_copy[1] = 99\n",
    "print(a)"
   ]
  },
  {
   "cell_type": "markdown",
   "id": "15678b97",
   "metadata": {},
   "source": [
    "# Reshaping"
   ]
  },
  {
   "cell_type": "code",
   "execution_count": 37,
   "id": "ba2cf577",
   "metadata": {},
   "outputs": [
    {
     "name": "stdout",
     "output_type": "stream",
     "text": [
      "[ 0  1  2  3  4  5  6  7  8  9 10 11]\n",
      "[[ 0  1  2  3]\n",
      " [ 4  5  6  7]\n",
      " [ 8  9 10 11]]\n",
      "[[[ 0  1]\n",
      "  [ 2  3]\n",
      "  [ 4  5]]\n",
      "\n",
      " [[ 6  7]\n",
      "  [ 8  9]\n",
      "  [10 11]]]\n"
     ]
    }
   ],
   "source": [
    "# reshape() = Method to reshape array (Size of initial array must be equal to size of final array)\n",
    "import numpy as np\n",
    "# Create a 1D array\n",
    "arr_1 = np.arange(12)\n",
    "print(arr_1)\n",
    "# Reshape to 2D array\n",
    "arr_2 = arr_1.reshape(3, 4)\n",
    "print(arr_2)\n",
    "# Reshape to 3D array\n",
    "arr_3 = arr_1.reshape(2, 3, 2)\n",
    "print(arr_3)"
   ]
  },
  {
   "cell_type": "code",
   "execution_count": 42,
   "id": "6bf90af4",
   "metadata": {},
   "outputs": [
    {
     "name": "stdout",
     "output_type": "stream",
     "text": [
      "[10 20 30] 1 (3,)\n",
      "[[10 20 30]] 2 (1, 3)\n",
      "[[10]\n",
      " [20]\n",
      " [30]] 2 (3, 1)\n"
     ]
    }
   ],
   "source": [
    "# Converting 1D array into 2D row or column matrix\n",
    "import numpy as np\n",
    "arr = np.array([10, 20, 30])\n",
    "print(arr, arr.ndim, arr.shape)\n",
    "# Matrix with 1 row and 3 columns (Row vector)\n",
    "x = arr.reshape(1, 3)\n",
    "print(x, x.ndim, x.shape)\n",
    "# Matrix with 1 column and 3 rows (Column vector)\n",
    "y = arr.reshape(3, 1)\n",
    "print(y, y.ndim, y.shape)"
   ]
  },
  {
   "cell_type": "code",
   "execution_count": 44,
   "id": "cf85366f",
   "metadata": {},
   "outputs": [
    {
     "name": "stdout",
     "output_type": "stream",
     "text": [
      "[10 20 30] 1 (3,)\n",
      "[[10 20 30]] 2 (1, 3)\n",
      "[[10]\n",
      " [20]\n",
      " [30]] 2 (3, 1)\n"
     ]
    }
   ],
   "source": [
    "# Using newaxis instead of the above method\n",
    "import numpy as np\n",
    "arr = np.array([10, 20, 30])\n",
    "print(arr, arr.ndim, arr.shape)\n",
    "# Row vector\n",
    "x = arr[np.newaxis, :]\n",
    "print(x, x.ndim, x.shape)\n",
    "# Column vector\n",
    "y = arr[:, np.newaxis]\n",
    "print(y, y.ndim, y.shape)"
   ]
  },
  {
   "cell_type": "markdown",
   "id": "016711e2",
   "metadata": {},
   "source": [
    "# Joining"
   ]
  },
  {
   "cell_type": "code",
   "execution_count": 45,
   "id": "1d3c16ff",
   "metadata": {},
   "outputs": [
    {
     "name": "stdout",
     "output_type": "stream",
     "text": [
      "[1 2 3 4 5 6 7 8 9]\n"
     ]
    }
   ],
   "source": [
    "# 1D arrays\n",
    "import numpy as np\n",
    "x = np.array([1, 2, 3])\n",
    "y = np.array([4, 5, 6])\n",
    "z = np.array([7, 8, 9])\n",
    "res = np.concatenate([x, y, z])\n",
    "print(res)"
   ]
  },
  {
   "cell_type": "code",
   "execution_count": null,
   "id": "b9fc1727",
   "metadata": {},
   "outputs": [
    {
     "name": "stdout",
     "output_type": "stream",
     "text": [
      "[[1 2]\n",
      " [3 4]\n",
      " [5 6]\n",
      " [7 8]]\n",
      "[[1 2 5 6]\n",
      " [3 4 7 8]]\n"
     ]
    }
   ],
   "source": [
    "# 2D arrays (Same dimensions)\n",
    "import numpy as np\n",
    "# Two 2D arrays of dimension 2 X 2\n",
    "a = np.array([[1, 2], [3, 4]])\n",
    "b = np.array([[5, 6], [7, 8]])\n",
    "# Concatenate along first axis\n",
    "m1 = np.concatenate([a, b])\n",
    "print(m1)\n",
    "# Concatenate along second axis\n",
    "m2 = np.concatenate([a, b], axis=1)\n",
    "print(m2)"
   ]
  },
  {
   "cell_type": "code",
   "execution_count": 57,
   "id": "0158d7d4",
   "metadata": {},
   "outputs": [
    {
     "name": "stdout",
     "output_type": "stream",
     "text": [
      "[[1 2 3]\n",
      " [4 5 6]\n",
      " [7 8 9]]\n",
      "[[4 5 6 0]\n",
      " [7 8 9 0]]\n"
     ]
    }
   ],
   "source": [
    "# 2D arrays (Different dimensions)\n",
    "import numpy as np\n",
    "# Dimension 1 X 3\n",
    "x = np.array([[1, 2, 3]])\n",
    "# Dimension 2 X 3\n",
    "y = np.array([[4, 5, 6], [7, 8, 9]])\n",
    "# Dimension 2 X 1\n",
    "z = np.array([[0], [0]])\n",
    "# Vertically stack x and y\n",
    "m1 = np.vstack([x, y])\n",
    "print(m1)\n",
    "# Horizontally stack y and z\n",
    "m2 = np.hstack([y, z])\n",
    "print(m2)"
   ]
  },
  {
   "cell_type": "markdown",
   "id": "f9627ad2",
   "metadata": {},
   "source": [
    "# Splitting"
   ]
  },
  {
   "cell_type": "code",
   "execution_count": 59,
   "id": "fea53e17",
   "metadata": {},
   "outputs": [
    {
     "name": "stdout",
     "output_type": "stream",
     "text": [
      "[10 20 30 40 50 60 70 80 90]\n",
      "[10 20 30]\n",
      "[40 50 60]\n",
      "[70 80 90]\n"
     ]
    }
   ],
   "source": [
    "# 1D array\n",
    "import numpy as np\n",
    "x = np.array([10, 20, 30, 40, 50, 60, 70, 80, 90])\n",
    "print(x)\n",
    "# Indexing is as follows:\n",
    "#  0  1  2  3  4  5  6  7  8\n",
    "# 10 20 30 40 50 60 70 80 90\n",
    "# Split x at index 3 and 6 to create 3 subarrays\n",
    "x1, x2, x3 = np.split(x, [3,6])\n",
    "print(x1)\n",
    "print(x2)\n",
    "print(x3)"
   ]
  },
  {
   "cell_type": "code",
   "execution_count": 62,
   "id": "8372da0f",
   "metadata": {},
   "outputs": [
    {
     "name": "stdout",
     "output_type": "stream",
     "text": [
      "[[ 0  1  2  3]\n",
      " [ 4  5  6  7]\n",
      " [ 8  9 10 11]\n",
      " [12 13 14 15]]\n",
      "[[0 1 2 3]\n",
      " [4 5 6 7]]\n",
      "[[ 8  9 10 11]\n",
      " [12 13 14 15]]\n",
      "[[ 0  1]\n",
      " [ 4  5]\n",
      " [ 8  9]\n",
      " [12 13]]\n",
      "[[ 2  3]\n",
      " [ 6  7]\n",
      " [10 11]\n",
      " [14 15]]\n"
     ]
    }
   ],
   "source": [
    "# 2D array\n",
    "import numpy as np\n",
    "grid = np.arange(16).reshape(4, 4)\n",
    "print(grid)\n",
    "# Indexing is as follows:\n",
    "#    0  1  2  3\n",
    "# 0  0  1  2  3\n",
    "# 1  4  5  6  7\n",
    "# 2  8  9 10 11\n",
    "# 3 12 13 14 15\n",
    "# Split grid at row 2 to create two submatrices\n",
    "upper, lower = np.vsplit(grid, [2])\n",
    "print(upper)\n",
    "print(lower)\n",
    "# Split grid at column 2 to create two submatrices\n",
    "left, right = np.hsplit(grid, [2])\n",
    "print(left)\n",
    "print(right)"
   ]
  }
 ],
 "metadata": {
  "kernelspec": {
   "display_name": "Python 3",
   "language": "python",
   "name": "python3"
  },
  "language_info": {
   "codemirror_mode": {
    "name": "ipython",
    "version": 3
   },
   "file_extension": ".py",
   "mimetype": "text/x-python",
   "name": "python",
   "nbconvert_exporter": "python",
   "pygments_lexer": "ipython3",
   "version": "3.12.2"
  }
 },
 "nbformat": 4,
 "nbformat_minor": 5
}
