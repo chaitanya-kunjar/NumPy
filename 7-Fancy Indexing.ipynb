{
 "cells": [
  {
   "cell_type": "code",
   "execution_count": 6,
   "id": "8c7c42d0",
   "metadata": {},
   "outputs": [
    {
     "name": "stdout",
     "output_type": "stream",
     "text": [
      "[1 2 3 4 5 6 7 8 9]\n",
      "4 6 8\n",
      "[4 6 8]\n"
     ]
    }
   ],
   "source": [
    "# Fancy or vector indexing = Array of indices is passed instead of scalar\n",
    "import numpy as np\n",
    "# Create a 1D array\n",
    "arr = np.array([1, 2, 3, 4, 5, 6, 7, 8, 9])\n",
    "print(arr)\n",
    "# Normal method to access multiple elements at once\n",
    "print(arr[3], arr[5], arr[7])\n",
    "# Accessing array elements using an array of indices\n",
    "idx = [3, 5, 7]\n",
    "print(arr[idx])"
   ]
  },
  {
   "cell_type": "code",
   "execution_count": 10,
   "id": "1cb6f0c4",
   "metadata": {},
   "outputs": [
    {
     "name": "stdout",
     "output_type": "stream",
     "text": [
      "[30 50 70]\n",
      "(3,)\n",
      "[[40 80]\n",
      " [50 60]]\n",
      "(2, 2)\n"
     ]
    }
   ],
   "source": [
    "# Shape of result = Shape of index array\n",
    "import numpy as np\n",
    "arr = np.array([10, 20, 30, 40, 50, 60, 70, 80, 90])\n",
    "# Indexing of arr is as follows:\n",
    "#  0  1  2  3  4  5  6  7  8\n",
    "# 10 20 30 40 50 60 70 80 90\n",
    "# Example 1\n",
    "# 1D index array of dimension 1 X 3\n",
    "idx_1 = [2, 4, 6]\n",
    "print(arr[idx_1])\n",
    "print(arr[idx_1].shape)\n",
    "# Example 2\n",
    "# 2D index array of dimension 2 X 2\n",
    "idx_2 = [[3, 7], [4, 5]]\n",
    "print(arr[idx_2]) \n",
    "print(arr[idx_2].shape)"
   ]
  },
  {
   "cell_type": "code",
   "execution_count": 13,
   "id": "95c912c3",
   "metadata": {},
   "outputs": [
    {
     "name": "stdout",
     "output_type": "stream",
     "text": [
      "[[ 0  1  2  3]\n",
      " [ 4  5  6  7]\n",
      " [ 8  9 10 11]]\n",
      "[ 1  6 11]\n"
     ]
    }
   ],
   "source": [
    "# Fancy indexing with multiple dimensions (2D array)\n",
    "import numpy as np\n",
    "M = np.arange(12).reshape((3,4))\n",
    "print(M)\n",
    "# Indexing is as follows\n",
    "#    0  1  2  3\n",
    "# 0  0  1  2  3\n",
    "# 1  4  5  6  7\n",
    "# 2  8  9 10 11 \n",
    "# Row index array\n",
    "row = np.array([0, 1, 2])\n",
    "# Column index array\n",
    "col = np.array([1, 2, 3])\n",
    "# Corresponding elements of row and col will form index of element\n",
    "# M[0,1] = 1    M[1,2] = 6    M[2,3] = 11\n",
    "print(M[row,col])"
   ]
  },
  {
   "cell_type": "code",
   "execution_count": 6,
   "id": "260ca6ba",
   "metadata": {},
   "outputs": [
    {
     "name": "stdout",
     "output_type": "stream",
     "text": [
      "[[ 0  1  2  3]\n",
      " [ 4  5  6  7]\n",
      " [ 8  9 10 11]]\n",
      "[[ 1  2  3]\n",
      " [ 5  6  7]\n",
      " [ 9 10 11]]\n"
     ]
    }
   ],
   "source": [
    "# Fancy indexing with 2D arrays (Broadcasting of index arrays)\n",
    "import numpy as np\n",
    "M = np.arange(12).reshape((3,4))\n",
    "print(M)\n",
    "# Indexing is as follows\n",
    "#    0  1  2  3\n",
    "# 0  0  1  2  3\n",
    "# 1  4  5  6  7\n",
    "# 2  8  9 10 11 \n",
    "row = np.array([0, 1, 2]).reshape((3,1))\n",
    "col = np.array([1, 2, 3])\n",
    "# row.shape = (3,1)\n",
    "# col.shape = (3,)\n",
    "# From rule 1, col.shape = (1,3)\n",
    "# From rule 2, row.shape = (3,3) and col.shape = (3,3)\n",
    "# After broadcasting, the index arrays are as follows:\n",
    "# row =\n",
    "# {{0, 0, 0},\n",
    "#  {1, 1, 1},\n",
    "#  {2, 2, 2}}\n",
    "# col =         \n",
    "# {{1, 2, 3},   \n",
    "#  {1, 2, 3},   \n",
    "#  {1, 2, 3}}   \n",
    "print(M[row, col])\n",
    "# Corresponding elements of row and col will form index of element\n",
    "# M[0,1] = 1;   M[0,2] = 2;   M[0,3] = 3;\n",
    "# M[1,1] = 5;   M[1,2] = 6;   M[1,3] = 7;\n",
    "# M[2,1] = 9;   M[2,2] = 10;  M[2,3] = 11"
   ]
  },
  {
   "cell_type": "code",
   "execution_count": 20,
   "id": "ebdafbbf",
   "metadata": {},
   "outputs": [
    {
     "name": "stdout",
     "output_type": "stream",
     "text": [
      "[[ 0  1  2  3]\n",
      " [ 4  5  6  7]\n",
      " [ 8  9 10 11]]\n",
      "[ 8  9 10]\n",
      "[[ 4  5  6]\n",
      " [ 8  9 10]]\n",
      "[[0 1]\n",
      " [4 5]\n",
      " [8 9]]\n",
      "[ 6  7  8  9 10 11]\n"
     ]
    }
   ],
   "source": [
    "# Combined indexing\n",
    "import numpy as np\n",
    "M = np.arange(12).reshape((3,4))\n",
    "print(M)\n",
    "# Indexing is as follows\n",
    "#    0  1  2  3\n",
    "# 0  0  1  2  3\n",
    "# 1  4  5  6  7\n",
    "# 2  8  9 10 11 \n",
    "\n",
    "# 1. With simple indexing\n",
    "print(M[2, [0, 1, 2]])\n",
    "# M[2,0] = 8;   M[2,1] = 9;   M[2,2] = 10\n",
    "\n",
    "# 2. With slicing\n",
    "print(M[1:, [0, 1, 2]])\n",
    "# M[1,0] = 4;   M[1,1] = 5;   M[1,2] = 6\n",
    "# M[2,0] = 8;   M[2,1] = 9;   M[2,2] = 10\n",
    "print(M[[0, 1, 2], :2])\n",
    "# M[0,0] = 0;   M[0,1] = 1\n",
    "# M[1,0] = 4;   M[1,1] = 5\n",
    "# M[2,0] = 8;   M[2,1] = 9\n",
    "\n",
    "# 3. With masking\n",
    "# Create a boolean mask\n",
    "mask = M > 5\n",
    "print(M[mask])"
   ]
  },
  {
   "cell_type": "markdown",
   "id": "f0e260fd",
   "metadata": {},
   "source": [
    "**SELECTION OF RANDOM POINTS**"
   ]
  },
  {
   "cell_type": "code",
   "execution_count": null,
   "id": "e7ff0071",
   "metadata": {},
   "outputs": [
    {
     "name": "stdout",
     "output_type": "stream",
     "text": [
      "(100, 2)\n"
     ]
    }
   ],
   "source": [
    "import numpy as np\n",
    "# Set random seed for reproducibility\n",
    "rng = np.random.default_rng(seed=1701)\n",
    "# Set mean\n",
    "mean = [0, 0]\n",
    "# Set covariance matrix\n",
    "cov = [[1, 2], [2, 5]]\n",
    "# Generate 100 samples from multivariate normal distribution\n",
    "X = rng.multivariate_normal(mean, cov, 100)\n",
    "print(X.shape)"
   ]
  },
  {
   "cell_type": "code",
   "execution_count": 31,
   "id": "68dc4c21",
   "metadata": {},
   "outputs": [
    {
     "data": {
      "image/png": "[encoded data removed]",
      "text/plain": [
       "<Figure size 640x480 with 1 Axes>"
      ]
     },
     "metadata": {},
     "output_type": "display_data"
    }
   ],
   "source": [
    "# Visualization\n",
    "import matplotlib.pyplot as plt\n",
    "plt.scatter(X[:, 0], X[:, 1])\n",
    "plt.title('Samples from Multivariate Normal')\n",
    "plt.xlabel('X1')\n",
    "plt.ylabel('X2')\n",
    "plt.grid(axis='both', alpha=0.75)\n",
    "plt.show()"
   ]
  },
  {
   "cell_type": "code",
   "execution_count": 33,
   "id": "57fc39fb",
   "metadata": {},
   "outputs": [
    {
     "name": "stdout",
     "output_type": "stream",
     "text": [
      "[43  7 19  6 66 12 32 74 26 22 34 61 71 30 37 76 59 13 10  3]\n"
     ]
    }
   ],
   "source": [
    "# Select 20 random indices with no repeats \n",
    "indices = np.random.choice(X.shape[0], 20, replace=False)\n",
    "print(indices)"
   ]
  },
  {
   "cell_type": "code",
   "execution_count": 35,
   "id": "733e6de1",
   "metadata": {},
   "outputs": [
    {
     "name": "stdout",
     "output_type": "stream",
     "text": [
      "(20, 2)\n"
     ]
    }
   ],
   "source": [
    "# Use these indices to select a portion of the original array\n",
    "selection = X[indices]\n",
    "print(selection.shape)"
   ]
  },
  {
   "cell_type": "code",
   "execution_count": 66,
   "id": "9a12c514",
   "metadata": {},
   "outputs": [
    {
     "data": {
      "image/png": "[encoded data removed]",
      "text/plain": [
       "<Figure size 640x480 with 1 Axes>"
      ]
     },
     "metadata": {},
     "output_type": "display_data"
    }
   ],
   "source": [
    "# To see the selected points, overplot large circles at locations of the selected points\n",
    "plt.scatter(X[:, 0], X[:, 1], alpha=0.3)\n",
    "plt.scatter(selection[:, 0], selection[:, 1], facecolor='none', edgecolors='black', s=200);"
   ]
  },
  {
   "cell_type": "markdown",
   "id": "c511255d",
   "metadata": {},
   "source": [
    "**MODIFYING ARRAYS**"
   ]
  },
  {
   "cell_type": "code",
   "execution_count": 50,
   "id": "4b6b382b",
   "metadata": {},
   "outputs": [
    {
     "name": "stdout",
     "output_type": "stream",
     "text": [
      "[0 1 2 3 4 5 6 7 8 9]\n",
      "[3 6 9]\n",
      "[ 0  1  2 99  4  5 99  7  8 99]\n",
      "[ 0  1  2 89  4  5 89  7  8 89]\n"
     ]
    }
   ],
   "source": [
    "import numpy as np\n",
    "# Create a 1D array\n",
    "x = np.arange(10)\n",
    "print(x)\n",
    "# Create an index array\n",
    "i = np.array([3, 6, 9])\n",
    "print(i)\n",
    "# Modify all values at x[i]\n",
    "x[i] = 99\n",
    "print(x)\n",
    "# Further modifying\n",
    "x[i] -= 10\n",
    "print(x)"
   ]
  },
  {
   "cell_type": "code",
   "execution_count": null,
   "id": "ac7182f7",
   "metadata": {},
   "outputs": [
    {
     "name": "stdout",
     "output_type": "stream",
     "text": [
      "[0. 0. 0. 0. 0. 0. 0. 0. 0. 0.]\n",
      "[0 0 0]\n",
      "[9. 0. 0. 0. 0. 0. 0. 0. 0. 0.]\n"
     ]
    }
   ],
   "source": [
    "# Repeated indices\n",
    "import numpy as np\n",
    "# Create a 1D array of 0s\n",
    "x = np.zeros(10)\n",
    "print(x)\n",
    "# Indexing is as follows:\n",
    "# 0 1 2 3 4 5 6 7 8 9 \n",
    "# 0 0 0 0 0 0 0 0 0 0\n",
    "# Create an index array\n",
    "i = np.array([0, 0, 0])\n",
    "print(i)\n",
    "# Modify values\n",
    "x[i] = [3, 6, 9]\n",
    "# Modification is done as follows:\n",
    "# Step 1 : x[0] = 3\n",
    "# Step 2 : x[0] = 6\n",
    "# Step 3 : x[0] = 9 (Final)\n",
    "print(x)"
   ]
  },
  {
   "cell_type": "code",
   "execution_count": 58,
   "id": "bcb7c517",
   "metadata": {},
   "outputs": [
    {
     "name": "stdout",
     "output_type": "stream",
     "text": [
      "[0. 0. 0. 0. 0. 0. 0. 0. 0. 0.]\n",
      "[2 3 3 4 4 4]\n",
      "[0. 0. 1. 1. 1. 0. 0. 0. 0. 0.]\n",
      "[0. 0. 0. 0. 0. 0. 0. 0. 0. 0.]\n",
      "[0. 0. 1. 2. 3. 0. 0. 0. 0. 0.]\n"
     ]
    }
   ],
   "source": [
    "# Repeated operations\n",
    "import numpy as np\n",
    "# Create a 1D array of 0s\n",
    "x = np.zeros(10)\n",
    "print(x)\n",
    "# Create an index array\n",
    "i = np.array([2, 3, 3, 4, 4, 4])\n",
    "print(i)\n",
    "# Perform operation\n",
    "x[i] += 1\n",
    "# Expected outcome :\n",
    "# x[3] + 1 + 1 = 0 + 1 + 1 = 2\n",
    "# x[4] + 1 + 1 + 1 = 0 + 1 + 1 + 1 = 3\n",
    "# Observed outcome : x[3] = 1 & x[4] = 1\n",
    "# Reason = Operation does not happen multiple times but only the assignment\n",
    "print(x)\n",
    "# For repeated operations, at() method is used\n",
    "y = np.zeros(10)\n",
    "print(y)\n",
    "np.add.at(y, i, 1)\n",
    "print(y)"
   ]
  },
  {
   "cell_type": "markdown",
   "id": "924adcbd",
   "metadata": {},
   "source": [
    "**BINNING DATA (FROM CONTINUOUS TO DISCRETE)**"
   ]
  },
  {
   "cell_type": "code",
   "execution_count": 71,
   "id": "eb56fefa",
   "metadata": {},
   "outputs": [
    {
     "data": {
      "image/png": "[encoded data removed]",
      "text/plain": [
       "<Figure size 640x480 with 1 Axes>"
      ]
     },
     "metadata": {},
     "output_type": "display_data"
    }
   ],
   "source": [
    "# Compute a histogram by hand\n",
    "# Import necessary libraries\n",
    "import numpy as np\n",
    "import matplotlib.pyplot as plt\n",
    "# Create a random number generator\n",
    "rng = np.random.default_rng(seed=1701)\n",
    "# Create an array of 100 random numbers from a standard normal distribution (mean=0, std=1)\n",
    "x = rng.normal(size=100)\n",
    "# Create bins array\n",
    "bins = np.linspace(-5, 5, 20)\n",
    "# Array of 0s with same shape as bins\n",
    "counts = np.zeros_like(bins)\n",
    "# Find the appropriate bin for each x\n",
    "i = np.searchsorted(bins, x)\n",
    "# Add 1 to each of these bins (counts = No. of points within each bin)\n",
    "np.add.at(counts, i, 1)\n",
    "# Plot the results\n",
    "plt.plot(bins, counts, drawstyle='steps');\n",
    "plt.grid(axis='both', alpha=1)\n",
    "plt.show()"
   ]
  },
  {
   "cell_type": "code",
   "execution_count": null,
   "id": "b869f7af",
   "metadata": {},
   "outputs": [
    {
     "data": {
      "image/png": "[encoded data removed]",
      "text/plain": [
       "<Figure size 640x480 with 1 Axes>"
      ]
     },
     "metadata": {},
     "output_type": "display_data"
    }
   ],
   "source": [
    "# Alternate for plotting\n",
    "plt.hist(x, bins, histtype='step');\n",
    "plt.grid(axis='both', alpha=1)\n",
    "plt.show()"
   ]
  }
 ],
 "metadata": {
  "kernelspec": {
   "display_name": "Python 3",
   "language": "python",
   "name": "python3"
  },
  "language_info": {
   "codemirror_mode": {
    "name": "ipython",
    "version": 3
   },
   "file_extension": ".py",
   "mimetype": "text/x-python",
   "name": "python",
   "nbconvert_exporter": "python",
   "pygments_lexer": "ipython3",
   "version": "3.12.2"
  }
 },
 "nbformat": 4,
 "nbformat_minor": 5
}
