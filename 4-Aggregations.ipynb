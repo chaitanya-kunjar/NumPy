{
 "cells": [
  {
   "cell_type": "code",
   "execution_count": null,
   "id": "729d11b9",
   "metadata": {},
   "outputs": [
    {
     "name": "stdout",
     "output_type": "stream",
     "text": [
      "49110\n",
      "49110\n"
     ]
    }
   ],
   "source": [
    "# Sum of the values in an array\n",
    "import numpy as np\n",
    "# Create an array of 100 random integers between 0 and 1000\n",
    "arr = np.random.randint(0, 1000, 100)\n",
    "# Using built-in function\n",
    "print(sum(arr))\n",
    "# Using NumPy function\n",
    "print(np.sum(arr))"
   ]
  },
  {
   "cell_type": "code",
   "execution_count": 4,
   "id": "a7f527a8",
   "metadata": {},
   "outputs": [
    {
     "name": "stdout",
     "output_type": "stream",
     "text": [
      "36\n",
      "998\n",
      "36\n",
      "998\n",
      "Index (Min) = 24\n",
      "Index (Max) = 1\n"
     ]
    }
   ],
   "source": [
    "# Minimum and maximum values\n",
    "import numpy as np\n",
    "# Create an array of 100 random integers between 0 and 1000\n",
    "arr = np.random.randint(0, 1000, 100)\n",
    "# Using built-in functions\n",
    "print(min(arr))\n",
    "print(max(arr))\n",
    "# Using NumPy functions\n",
    "print(np.min(arr))\n",
    "print(np.max(arr))\n",
    "# Find index of minimum value\n",
    "print(\"Index (Min) =\", np.argmin(arr))\n",
    "# Find index of maximum value\n",
    "print(\"Index (Max) =\", np.argmax(arr))"
   ]
  },
  {
   "cell_type": "code",
   "execution_count": 5,
   "id": "10699f0b",
   "metadata": {},
   "outputs": [
    {
     "name": "stdout",
     "output_type": "stream",
     "text": [
      "Mean = 560.03\n",
      "Standard deviation = 295.42784076657364\n",
      "Variance = 87277.60909999999\n",
      "25th percentile = 276.25\n",
      "Median = 577.5\n",
      "75th percentile = 847.25\n"
     ]
    }
   ],
   "source": [
    "# Summary statistics\n",
    "import numpy as np\n",
    "# Create an array of 100 random integers between 0 and 1000\n",
    "arr = np.random.randint(0, 1000, 100)\n",
    "# 1. Mean\n",
    "print(\"Mean =\", np.mean(arr))\n",
    "# 2. Standard deviation\n",
    "print(\"Standard deviation =\", np.std(arr))\n",
    "# 3. Variance\n",
    "print(\"Variance =\", np.var(arr))\n",
    "# 4. 25th percentile\n",
    "print(\"25th percentile =\", np.percentile(arr, 25))\n",
    "# 5. Median\n",
    "print(\"Median =\", np.median(arr))\n",
    "# 6. 75th percentile\n",
    "print(\"75th percentile =\", np.percentile(arr, 75))"
   ]
  },
  {
   "cell_type": "code",
   "execution_count": 6,
   "id": "149f08df",
   "metadata": {},
   "outputs": [
    {
     "name": "stdout",
     "output_type": "stream",
     "text": [
      "True\n",
      "False\n",
      "False\n",
      "True\n",
      "False\n",
      "True\n"
     ]
    }
   ],
   "source": [
    "# Aggregate functions on boolean values\n",
    "import numpy as np\n",
    "a = np.array([True, True, True])\n",
    "b = np.array([False, False, False])\n",
    "c = np.array([True, False, True, False])\n",
    "# all() = Evaluate whether all elements are True\n",
    "print(np.all(a))\n",
    "print(np.all(b))\n",
    "print(np.all(c))\n",
    "# any() = Evaluate whether any element is True\n",
    "print(np.any(a))\n",
    "print(np.any(b))\n",
    "print(np.any(c))"
   ]
  },
  {
   "cell_type": "code",
   "execution_count": 11,
   "id": "619e7401",
   "metadata": {},
   "outputs": [
    {
     "name": "stdout",
     "output_type": "stream",
     "text": [
      "[[17  7  8 15]\n",
      " [ 2 18 19 15]\n",
      " [ 4  9 14  6]]\n",
      "19\n",
      "[17 18 19 15]\n",
      "[17 19 14]\n"
     ]
    }
   ],
   "source": [
    "# Aggregate functions on 2D arrays\n",
    "import numpy as np\n",
    "# Create a 2D array of the dimension 3 X 4\n",
    "arr = np.random.randint(0, 20, (3, 4))\n",
    "print(arr)\n",
    "# Applying aggregation function on all elements\n",
    "print(np.max(arr))\n",
    "# Applying aggregation function on each column (axis=0)\n",
    "# This will return the result for each column\n",
    "print(np.max(arr, axis=0))\n",
    "# Applying aggregation function on each row (axis=1)\n",
    "# This will return the result for each row\n",
    "print(np.max(arr, axis=1))"
   ]
  },
  {
   "cell_type": "code",
   "execution_count": 13,
   "id": "033d1cab",
   "metadata": {},
   "outputs": [
    {
     "name": "stdout",
     "output_type": "stream",
     "text": [
      "[189 170 189 163 183 171 185 168 173 183 173 173 175 178 183 193 178 173\n",
      " 174 183 183 168 170 178 182 180 183 178 182 188 175 179 183 193 182 183\n",
      " 177 185 188 188 182 185]\n"
     ]
    }
   ],
   "source": [
    "# HEIGHTS OF US PRESIDENTS\n",
    "import numpy as np\n",
    "import pandas as pd\n",
    "data = pd.read_csv('president_heights.csv')\n",
    "heights = np.array(data['height(cm)'])\n",
    "print(heights)"
   ]
  },
  {
   "cell_type": "code",
   "execution_count": 16,
   "id": "f391f214",
   "metadata": {},
   "outputs": [
    {
     "name": "stdout",
     "output_type": "stream",
     "text": [
      "Minimum height = 163\n",
      "Maximum height = 193\n",
      "Mean = 179.73809523809524\n",
      "Standard deviation = 6.931843442745892\n",
      "Variance = 48.05045351473922\n",
      "25th percentile = 174.25\n",
      "Median = 182.0\n",
      "75th percentile = 183.0\n"
     ]
    }
   ],
   "source": [
    "# Statistics\n",
    "print(\"Minimum height =\", np.min(heights))\n",
    "print(\"Maximum height =\", np.max(heights))\n",
    "print(\"Mean =\", np.mean(heights))\n",
    "print(\"Standard deviation =\", np.std(heights))\n",
    "print(\"Variance =\", np.var(heights))\n",
    "print(\"25th percentile =\", np.percentile(heights, 25))\n",
    "print(\"Median =\", np.median(heights))\n",
    "print(\"75th percentile =\", np.percentile(heights, 75))"
   ]
  },
  {
   "cell_type": "code",
   "execution_count": 22,
   "id": "95bce24b",
   "metadata": {},
   "outputs": [
    {
     "data": {
      "image/png": "[encoded data removed]",
      "text/plain": [
       "<Figure size 640x480 with 1 Axes>"
      ]
     },
     "metadata": {},
     "output_type": "display_data"
    }
   ],
   "source": [
    "# Visualization\n",
    "import matplotlib.pyplot as plt\n",
    "plt.hist(heights)\n",
    "plt.title('Height Distribution of US Presidents')\n",
    "plt.xlabel('height (cm)')\n",
    "plt.ylabel('number')\n",
    "plt.grid(axis='both', alpha=0.75)"
   ]
  }
 ],
 "metadata": {
  "kernelspec": {
   "display_name": "Python 3",
   "language": "python",
   "name": "python3"
  },
  "language_info": {
   "codemirror_mode": {
    "name": "ipython",
    "version": 3
   },
   "file_extension": ".py",
   "mimetype": "text/x-python",
   "name": "python",
   "nbconvert_exporter": "python",
   "pygments_lexer": "ipython3",
   "version": "3.12.2"
  }
 },
 "nbformat": 4,
 "nbformat_minor": 5
}
